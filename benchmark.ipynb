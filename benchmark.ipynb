{
 "cells": [
  {
   "cell_type": "code",
   "execution_count": 9,
   "id": "c73e53f9",
   "metadata": {},
   "outputs": [],
   "source": [
    "\n",
    "import pandas as pd \n",
    "import numpy as np\n",
    "import glob\n",
    "from tqdm import tqdm, trange\n",
    "import numba as nb\n",
    "from numba import njit, jit\n",
    "\n",
    "from config import config \n",
    "from seq_dataset import ViralDataset\n",
    "from seqgen import editDist\n",
    "import editdistance \n",
    "\n",
    "\n",
    "import matplotlib.pyplot as plt\n",
    "import plotly.express as px \n",
    "\n",
    "import warnings\n",
    "warnings.filterwarnings('ignore')\n",
    "# %matplotlib notebook\n",
    "\n",
    "def sample_edit_dist(dataset, num_samples):\n",
    "    samples = np.random.permutation(len(dataset))[:num_samples]\n",
    "    N = len(dataset)\n",
    "    M = len(samples)\n",
    "    dists = np.zeros((M,N))\n",
    "    for si,i in tqdm(enumerate(samples),total=len(samples)):\n",
    "        for j in trange(N):\n",
    "            dists[si,j] = editdistance.eval(dataset.get_seq(i), dataset.get_seq(j))\n",
    "    return dists, samples"
   ]
  },
  {
   "cell_type": "code",
   "execution_count": 10,
   "id": "3be4cccf",
   "metadata": {},
   "outputs": [
    {
     "name": "stderr",
     "output_type": "stream",
     "text": [
      "  0%|          | 0/1000 [00:00<?, ?it/s]\n",
      "  0%|          | 0/193776 [00:00<?, ?it/s]\u001b[A\n",
      "  1%|          | 1797/193776 [00:00<00:10, 17966.42it/s]\u001b[A\n",
      "  2%|▏         | 3594/193776 [00:00<00:10, 17643.86it/s]\u001b[A\n",
      "  3%|▎         | 5359/193776 [00:00<00:10, 17564.86it/s]\u001b[A\n",
      "  4%|▎         | 7116/193776 [00:00<00:10, 17489.03it/s]\u001b[A\n",
      "  5%|▍         | 8881/193776 [00:00<00:10, 17545.59it/s]\u001b[A\n",
      "  5%|▌         | 10636/193776 [00:00<00:10, 17503.24it/s]\u001b[A\n",
      "  6%|▋         | 12397/193776 [00:00<00:10, 17537.53it/s]\u001b[A\n",
      "  7%|▋         | 14151/193776 [00:00<00:10, 17320.07it/s]\u001b[A\n",
      "  8%|▊         | 15884/193776 [00:00<00:10, 17120.99it/s]\u001b[A\n",
      "  9%|▉         | 17993/193776 [00:01<00:10, 17198.24it/s]\u001b[A\n",
      "  0%|          | 0/1000 [00:01<?, ?it/s]\n"
     ]
    },
    {
     "ename": "KeyboardInterrupt",
     "evalue": "",
     "output_type": "error",
     "traceback": [
      "\u001b[0;31m---------------------------------------------------------------------------\u001b[0m",
      "\u001b[0;31mKeyboardInterrupt\u001b[0m                         Traceback (most recent call last)",
      "\u001b[0;32m<ipython-input-10-f7514ccb3e15>\u001b[0m in \u001b[0;36m<module>\u001b[0;34m\u001b[0m\n\u001b[1;32m     11\u001b[0m \u001b[0;34m\u001b[0m\u001b[0m\n\u001b[1;32m     12\u001b[0m \u001b[0mdataset\u001b[0m \u001b[0;34m=\u001b[0m \u001b[0mViralDataset\u001b[0m\u001b[0;34m(\u001b[0m\u001b[0;34m**\u001b[0m\u001b[0mdataset_params\u001b[0m\u001b[0;34m)\u001b[0m\u001b[0;34m\u001b[0m\u001b[0;34m\u001b[0m\u001b[0m\n\u001b[0;32m---> 13\u001b[0;31m \u001b[0msample_dists\u001b[0m\u001b[0;34m,\u001b[0m \u001b[0msamples\u001b[0m \u001b[0;34m=\u001b[0m \u001b[0msample_edit_dist\u001b[0m\u001b[0;34m(\u001b[0m\u001b[0mdataset\u001b[0m\u001b[0;34m,\u001b[0m \u001b[0mnum_samples\u001b[0m\u001b[0;34m)\u001b[0m\u001b[0;34m\u001b[0m\u001b[0;34m\u001b[0m\u001b[0m\n\u001b[0m",
      "\u001b[0;32m<ipython-input-9-5082157a49c0>\u001b[0m in \u001b[0;36msample_edit_dist\u001b[0;34m(dataset, num_samples)\u001b[0m\n\u001b[1;32m     26\u001b[0m     \u001b[0;32mfor\u001b[0m \u001b[0msi\u001b[0m\u001b[0;34m,\u001b[0m\u001b[0mi\u001b[0m \u001b[0;32min\u001b[0m \u001b[0mtqdm\u001b[0m\u001b[0;34m(\u001b[0m\u001b[0menumerate\u001b[0m\u001b[0;34m(\u001b[0m\u001b[0msamples\u001b[0m\u001b[0;34m)\u001b[0m\u001b[0;34m,\u001b[0m\u001b[0mtotal\u001b[0m\u001b[0;34m=\u001b[0m\u001b[0mlen\u001b[0m\u001b[0;34m(\u001b[0m\u001b[0msamples\u001b[0m\u001b[0;34m)\u001b[0m\u001b[0;34m)\u001b[0m\u001b[0;34m:\u001b[0m\u001b[0;34m\u001b[0m\u001b[0;34m\u001b[0m\u001b[0m\n\u001b[1;32m     27\u001b[0m         \u001b[0;32mfor\u001b[0m \u001b[0mj\u001b[0m \u001b[0;32min\u001b[0m \u001b[0mtrange\u001b[0m\u001b[0;34m(\u001b[0m\u001b[0mN\u001b[0m\u001b[0;34m)\u001b[0m\u001b[0;34m:\u001b[0m\u001b[0;34m\u001b[0m\u001b[0;34m\u001b[0m\u001b[0m\n\u001b[0;32m---> 28\u001b[0;31m             \u001b[0mdists\u001b[0m\u001b[0;34m[\u001b[0m\u001b[0msi\u001b[0m\u001b[0;34m,\u001b[0m\u001b[0mj\u001b[0m\u001b[0;34m]\u001b[0m \u001b[0;34m=\u001b[0m \u001b[0meditdistance\u001b[0m\u001b[0;34m.\u001b[0m\u001b[0meval\u001b[0m\u001b[0;34m(\u001b[0m\u001b[0mdataset\u001b[0m\u001b[0;34m.\u001b[0m\u001b[0mget_seq\u001b[0m\u001b[0;34m(\u001b[0m\u001b[0mi\u001b[0m\u001b[0;34m)\u001b[0m\u001b[0;34m,\u001b[0m \u001b[0mdataset\u001b[0m\u001b[0;34m.\u001b[0m\u001b[0mget_seq\u001b[0m\u001b[0;34m(\u001b[0m\u001b[0mj\u001b[0m\u001b[0;34m)\u001b[0m\u001b[0;34m)\u001b[0m\u001b[0;34m\u001b[0m\u001b[0;34m\u001b[0m\u001b[0m\n\u001b[0m\u001b[1;32m     29\u001b[0m     \u001b[0;32mreturn\u001b[0m \u001b[0mdists\u001b[0m\u001b[0;34m,\u001b[0m \u001b[0msamples\u001b[0m\u001b[0;34m\u001b[0m\u001b[0;34m\u001b[0m\u001b[0m\n",
      "\u001b[0;31mKeyboardInterrupt\u001b[0m: "
     ]
    }
   ],
   "source": [
    "max_len = 5000\n",
    "num_samples = 1000\n",
    "num_layers = 8\n",
    "\n",
    "dataset_params = dict(\n",
    "    min_len = 0,\n",
    "    max_len = max_len,\n",
    "    L = 2**num_layers,\n",
    "    stride = 2**(num_layers-2),\n",
    ")\n",
    "\n",
    "dataset = ViralDataset(**dataset_params)\n",
    "sample_dists, samples = sample_edit_dist(dataset, num_samples)"
   ]
  },
  {
   "cell_type": "code",
   "execution_count": null,
   "id": "55be684c",
   "metadata": {},
   "outputs": [],
   "source": []
  }
 ],
 "metadata": {
  "kernelspec": {
   "display_name": "Python 3",
   "language": "python",
   "name": "python3"
  },
  "language_info": {
   "codemirror_mode": {
    "name": "ipython",
    "version": 3
   },
   "file_extension": ".py",
   "mimetype": "text/x-python",
   "name": "python",
   "nbconvert_exporter": "python",
   "pygments_lexer": "ipython3",
   "version": "3.9.4"
  }
 },
 "nbformat": 4,
 "nbformat_minor": 5
}
