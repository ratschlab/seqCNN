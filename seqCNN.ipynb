{
 "cells": [
  {
   "cell_type": "code",
   "execution_count": 13,
   "id": "2710e917",
   "metadata": {},
   "outputs": [
    {
     "data": {
      "text/plain": [
       "<module 'experiment' from '/cluster/home/ajoudaki/seqCNN/experiment.py'>"
      ]
     },
     "execution_count": 13,
     "metadata": {},
     "output_type": "execute_result"
    }
   ],
   "source": [
    "import numpy as np\n",
    "import matplotlib.pyplot as plt\n",
    "import seaborn as sns\n",
    "import experiment\n",
    "import importlib \n",
    "\n",
    "importlib.reload(experiment)\n"
   ]
  },
  {
   "cell_type": "code",
   "execution_count": null,
   "id": "02ced0dc",
   "metadata": {},
   "outputs": [
    {
     "name": "stderr",
     "output_type": "stream",
     "text": [
      "running loss = 0.4779:   3%|▎         | 62/1954 [04:49<2:27:01,  4.66s/it]"
     ]
    }
   ],
   "source": [
    "grid = dict(\n",
    "    name = 'test3',\n",
    "    src = 'shseqs',\n",
    "    stride = 2,\n",
    "    groups = 4,\n",
    "    layers = 5,\n",
    "    kernel = 4,\n",
    ")\n",
    "net, tr_loader, val_loader = experiment.run(**grid)"
   ]
  },
  {
   "cell_type": "code",
   "execution_count": null,
   "id": "f4d5b13f",
   "metadata": {},
   "outputs": [],
   "source": [
    "d1,d2,t = next(iter(tr_loader))\n",
    "d1.shape"
   ]
  }
 ],
 "metadata": {
  "kernelspec": {
   "display_name": "Python 3",
   "language": "python",
   "name": "python3"
  },
  "language_info": {
   "codemirror_mode": {
    "name": "ipython",
    "version": 3
   },
   "file_extension": ".py",
   "mimetype": "text/x-python",
   "name": "python",
   "nbconvert_exporter": "python",
   "pygments_lexer": "ipython3",
   "version": "3.9.4"
  }
 },
 "nbformat": 4,
 "nbformat_minor": 5
}
