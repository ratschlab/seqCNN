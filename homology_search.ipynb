{
 "cells": [
  {
   "cell_type": "code",
   "execution_count": 1,
   "id": "e6793c03",
   "metadata": {},
   "outputs": [],
   "source": [
    "import numpy as np\n",
    "import pandas as pd\n",
    "\n",
    "import matplotlib.pyplot as plt\n",
    "import plotly.express as px \n",
    "\n",
    "from code import sequence, viral, embed, KNN\n",
    "\n",
    "import warnings\n",
    "warnings.filterwarnings('ignore')\n",
    "# %matplotlib notebook"
   ]
  },
  {
   "cell_type": "markdown",
   "id": "f9d1bf14",
   "metadata": {},
   "source": [
    "### Embed sequences using pre-trained model "
   ]
  },
  {
   "cell_type": "code",
   "execution_count": 2,
   "id": "c009171f",
   "metadata": {},
   "outputs": [
    {
     "name": "stdout",
     "output_type": "stream",
     "text": [
      "['/cluster/work/grlab/home/ajoudaki/seqCNN/networks/seqCNN_in_channels4_num_layers8_channels1_kernel3_stride2_groups4_1623100075']\n"
     ]
    },
    {
     "name": "stderr",
     "output_type": "stream",
     "text": [
      "100%|██████████| 61/61 [00:00<00:00, 62.21it/s]\n"
     ]
    },
    {
     "name": "stdout",
     "output_type": "stream",
     "text": [
      "calculated for 15586 substrings, forming 242907694 pairs\n"
     ]
    }
   ],
   "source": [
    "dataset, embeddings = viral.get_embedings()\n",
    "edit_dists = viral.get_edit_dists(dataset)\n",
    "\n",
    "embed_dists = embed.pairwise_embed_dist(embeddings)\n",
    "data = embed.get_dataframe(dataset, edit_dists, embed_dists)\n",
    "stats_summary = embed.get_stats(dataset, data)"
   ]
  },
  {
   "cell_type": "markdown",
   "id": "2291b35d",
   "metadata": {},
   "source": [
    "### Sparsity of pairwise edit distance graph "
   ]
  },
  {
   "cell_type": "code",
   "execution_count": 3,
   "id": "2d955290",
   "metadata": {},
   "outputs": [
    {
     "data": {
      "image/png": "[encoded data removed]",
      "text/plain": [
       "<Figure size 720x360 with 2 Axes>"
      ]
     },
     "metadata": {
      "needs_background": "light"
     },
     "output_type": "display_data"
    }
   ],
   "source": [
    "fig = embed.sparsity(edit_dists/dataset.L)\n",
    "fig.show()"
   ]
  },
  {
   "cell_type": "markdown",
   "id": "82903ff6",
   "metadata": {},
   "source": [
    "### Show sample embedding sequences "
   ]
  },
  {
   "cell_type": "code",
   "execution_count": null,
   "id": "1339f91a",
   "metadata": {},
   "outputs": [],
   "source": [
    "ed_neighbors = np.argsort(edit_dists, axis=1)\n",
    "embed.sample_edit_vs_embed_dists(edit_dists/dataset.L, embed_dists, ed_neighbors)"
   ]
  },
  {
   "cell_type": "code",
   "execution_count": null,
   "id": "8fcb4d6b",
   "metadata": {},
   "outputs": [],
   "source": [
    "random_samples = embed.get_samples(dataset, data, num_samples=20)\n",
    "viral.embed_vs_ed(dataset, random_samples, x='edit dist', y='embed dist')"
   ]
  },
  {
   "cell_type": "markdown",
   "id": "3f27aca8",
   "metadata": {},
   "source": [
    "### PR curve"
   ]
  },
  {
   "cell_type": "code",
   "execution_count": null,
   "id": "43d7c3d9",
   "metadata": {},
   "outputs": [],
   "source": [
    "%%time \n",
    "\n",
    "d1 = .2\n",
    "d2 = .35\n",
    "recall = .99\n",
    "max_len = 1500\n",
    "ed_th = .15\n",
    "\n",
    "NN, NN_dists = KNN.nn_index(embeddings, d1, d2, recall)\n",
    "index = KNN.nn2index(NN,NN_dists)\n",
    "\n",
    "_, recall = KNN.PR_curve(NN, embed_dists<d1)\n",
    "_, recall2 = KNN.PR_curve(NN, edit_dists/dataset.L<ed_th)\n",
    "print(f\"recall embed dist = {recall:.5f}\\n\"\n",
    "      f\"recall edit dist = {recall2:.5f}\\n\"\n",
    "      f\"embed dist calls per sample {int(NN.shape[0]/len(dataset))}\")\n",
    "\n",
    "len(dataset), embeddings.shape, NN.shape, NN.shape[0]/len(dataset)"
   ]
  },
  {
   "cell_type": "markdown",
   "id": "5b2150bb",
   "metadata": {},
   "source": [
    "# Cosine nearest neighbor search "
   ]
  },
  {
   "cell_type": "markdown",
   "id": "f7a90b99",
   "metadata": {},
   "source": [
    "Given matrix $X \\in R^{D\\times N}$ with unit-norm columns $\\|x_1\\|, \\dots, \\|x_N\\|=1$, for $0<d_1<d_2<1$ we assume at most $c N$ pairs are closer than $d_2$: \n",
    "$$|\\{(i,j): \\|x_i-x_j\\|^2\\le d_2\\}|\\le c N$$ \n",
    "for some $c=O(1)$. We want to retrieve $1-\\delta$ of pairs closer than $d_1$, with the complexity growing sub-quadratically in $N$. \n",
    "- Step 1: Given integers $m,M$ (TBD), draw $M$ Gaussian matrices $G_1,\\dots, G_M \\sim \\mathcal{N}(0,I_{m\\times D})$\n",
    "- Step 2: project $X$ onto $\\pm 1$ matrices $Y_1,\\dots, Y_M$ and take the sign $Y_j = sign( G_j X )$\n",
    "    - complexity: $N D m M$ overall \n",
    "- Step 3: retrieve all pairs $(i,j)$ that collide $y^k_i=y^k_j$s for at least one of the sign matrices $k=1,\\dots, M$. \n",
    "    - complexity of finding indices in that collide: $C M + C' D$ where $C=C_1+\\dots, C_M$ is the number of colliding pairs in each ietration and $C'$ is the number of unique colliding pairs for which we compute the exact distance in $R^D$. "
   ]
  },
  {
   "cell_type": "markdown",
   "id": "b582f16f",
   "metadata": {},
   "source": [
    "Note that for unit vectors $u,v\\in R^D$ Gaussian vecotor $w\\sim \\mathcal{N}(0,I_D)$, the probability that sign of $w^\\top u$ is different from $w^\\top v$ is their angle divided by $\\pi$: $P(sign(w^\\top u) \\neq sign(w^\\top v)) = \\frac{\\theta}{\\pi}$, where $\\theta$ is the angle between the vectors. Therefore, we can derive $\\theta$ from the distance $f(d):=\\frac{\\theta}{\\pi}=\\frac{1}{\\pi}\\cos^{-1}(\\frac{1-d}{2})$. Therefore we can convert the distance thresholds $d_1,d_2$ to probability thresholds $0<\\theta_1<\\theta_2<1$ using this transformation $\\theta_1=f(d_1),\\theta_2=f(d_2)$.  \n",
    "\n",
    "The number of colliding pairs has two components: 1) pairs closer than $d_2$ are at most $c N$, amount to $c N (M+D)$ cost. 2) In expectation we have at most $\\binom{N}{2}(1-\\theta_2)^m$ pairs with distance $d_2$ or more in each iteration, totalling $M D \\binom{N}{2}(1-\\theta_2)^m$ cost, since the colliding pairs are in worst case distinct in each iteration. Since the second term is clearly the dominant one, we equate the complexity of projection and neighbor finding to derive the optimal parameters. "
   ]
  },
  {
   "cell_type": "markdown",
   "id": "47751740",
   "metadata": {},
   "source": [
    "$N D m M = M D \\binom{N}{2} (1-\\theta_2)^m$ which can be simplified to \n",
    "$$\\frac{(1-\\theta_2)^{m}}{m} \\le \\frac{2}{N}$$\n",
    "On the other hand, in order to ensure $1-\\delta$ recall we must have \n",
    "$$M\\ge \\frac{\\log(1/\\delta)}{ \\log \\frac{1}{(1-(1-\\theta_1)^m )} }$$"
   ]
  },
  {
   "cell_type": "code",
   "execution_count": 9,
   "id": "b645e1dc",
   "metadata": {},
   "outputs": [
    {
     "name": "stderr",
     "output_type": "stream",
     "text": [
      "  0%|          | 6/1896 [00:00<00:32, 58.65it/s]"
     ]
    },
    {
     "name": "stdout",
     "output_type": "stream",
     "text": [
      "['/cluster/work/grlab/home/ajoudaki/seqCNN/networks/seqCNN_in_channels4_num_layers8_channels1_kernel3_stride2_groups4_1623100075']\n"
     ]
    },
    {
     "name": "stderr",
     "output_type": "stream",
     "text": [
      "100%|██████████| 1896/1896 [00:31<00:00, 60.21it/s]\n"
     ]
    },
    {
     "name": "stdout",
     "output_type": "stream",
     "text": [
      "CPU times: user 32 s, sys: 4.81 s, total: 36.8 s\n",
      "Wall time: 36.7 s\n"
     ]
    }
   ],
   "source": [
    "%%time \n",
    "\n",
    "d1 = .3\n",
    "d2 = .4\n",
    "recall = .90\n",
    "max_len = 1500\n",
    "\n",
    "ed_th = .3\n",
    "num_samples = 100\n",
    "th = .3\n",
    "\n",
    "dataset, embeddings = viral.get_embedings(max_len) # max_len=max_len, num_layers=10, groups=2, kernel=5\n",
    "sample_dists, samples = embed.sample_edit_dist(dataset, num_samples)\n",
    "\n",
    "NN, NN_dists = KNN.nn_index(embeddings, d1, d2, recall)\n",
    "print(\"searching for sample data\")\n",
    "index = KNN.search(NN, NN_dists, samples)\n",
    "\n",
    "target = sample_dists/dataset.L < ed_th\n",
    "recall, dist_calls = KNN.sample_PR(samples, target, index, th=th)\n",
    "print(\"computing summary\")\n",
    "df = viral.target_summary(embeddings, samples, dataset, target, index, print_info=False, max_sh=1)\n",
    "\n",
    "print(f\"recall edit dist < {ed_th} = {recall:.5f}\\n\"\n",
    "      f\"embed dist calls per sample {int(NN.shape[0]/len(dataset))}\\n\"\n",
    "      f\"edit dist calls per sample {int(dist_calls/num_samples)}\\n\"\n",
    "      f\"dataset size {len(dataset)}\")\n"
   ]
  },
  {
   "cell_type": "code",
   "execution_count": null,
   "id": "8e203d9f",
   "metadata": {},
   "outputs": [],
   "source": [
    "# df = viral.target_summary(embeddings, samples, dataset, target, index, print_info=False, max_sh=1)\n",
    "px.scatter(df, df.ed/dataset.L, y='embed_dist', hover_data=[\"ed_sh\",\"sample\"], color=\"indexed\")\n",
    "\n",
    "# plt.plot(np.sort(sample_dists[sample_dists>0])/dataset.L,np.arange(np.sum(sample_dists>0)))\n",
    "# plt.grid('on')"
   ]
  },
  {
   "cell_type": "code",
   "execution_count": null,
   "id": "596f9315",
   "metadata": {},
   "outputs": [],
   "source": [
    "viral.summary_viewer(df=df, dataset=dataset)"
   ]
  },
  {
   "cell_type": "code",
   "execution_count": null,
   "id": "8e092cd3",
   "metadata": {},
   "outputs": [],
   "source": []
  }
 ],
 "metadata": {
  "kernelspec": {
   "display_name": "Python 3",
   "language": "python",
   "name": "python3"
  },
  "language_info": {
   "codemirror_mode": {
    "name": "ipython",
    "version": 3
   },
   "file_extension": ".py",
   "mimetype": "text/x-python",
   "name": "python",
   "nbconvert_exporter": "python",
   "pygments_lexer": "ipython3",
   "version": "3.9.4"
  }
 },
 "nbformat": 4,
 "nbformat_minor": 5
}
